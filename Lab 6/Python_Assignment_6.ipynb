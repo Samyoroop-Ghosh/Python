{
  "cells": [
    {
      "cell_type": "markdown",
      "metadata": {
        "id": "oC_DX5M4SxR1"
      },
      "source": [
        "**1. Importing Dependencies**"
      ]
    },
    {
      "cell_type": "code",
      "execution_count": null,
      "metadata": {
        "id": "HsksatvzxO_1"
      },
      "outputs": [],
      "source": [
        "import pandas as pd\n",
        "import seaborn as sns\n",
        "import matplotlib.pyplot as plt\n",
        "from sklearn.model_selection import train_test_split\n",
        "from sklearn.linear_model import LogisticRegression\n",
        "from sklearn.discriminant_analysis import LinearDiscriminantAnalysis\n",
        "from sklearn.neighbors import KNeighborsClassifier\n",
        "from sklearn.tree import DecisionTreeClassifier\n",
        "from sklearn.naive_bayes import GaussianNB\n",
        "from sklearn.svm import SVC"
      ]
    },
    {
      "cell_type": "markdown",
      "metadata": {
        "id": "yrSijxkB6Lij"
      },
      "source": [
        "**2. Loading the dataset**"
      ]
    },
    {
      "cell_type": "code",
      "execution_count": null,
      "metadata": {
        "id": "DytC16h_2nCB"
      },
      "outputs": [],
      "source": [
        "flower_data = pd.read_csv('iris.data')"
      ]
    },
    {
      "cell_type": "markdown",
      "metadata": {
        "id": "W2mI_kcM6RH3"
      },
      "source": [
        "**3. Summarizing the dataset**\n"
      ]
    },
    {
      "cell_type": "markdown",
      "metadata": {
        "id": "WqeLEwhS6nuJ"
      },
      "source": [
        "Dimensions of the dataset\n",
        "\n"
      ]
    },
    {
      "cell_type": "code",
      "execution_count": null,
      "metadata": {
        "colab": {
          "base_uri": "https://localhost:8080/"
        },
        "id": "wY_XJqtb5pHi",
        "outputId": "2c97172a-f6d3-4f76-dbae-93ce208dd18c"
      },
      "outputs": [],
      "source": [
        "flower_data.shape"
      ]
    },
    {
      "cell_type": "markdown",
      "metadata": {
        "id": "e13jZEtr64qn"
      },
      "source": [
        "Peek at the data itself"
      ]
    },
    {
      "cell_type": "code",
      "execution_count": null,
      "metadata": {
        "colab": {
          "base_uri": "https://localhost:8080/",
          "height": 206
        },
        "id": "bEyKp-DJ6E3q",
        "outputId": "e69f4cde-eb68-48a9-8d67-8a72a1fd57e7"
      },
      "outputs": [],
      "source": [
        "flower_data.head()"
      ]
    },
    {
      "cell_type": "markdown",
      "metadata": {
        "id": "5c5H4SegWOFr"
      },
      "source": [
        "Checking for blanks"
      ]
    },
    {
      "cell_type": "code",
      "execution_count": null,
      "metadata": {
        "colab": {
          "base_uri": "https://localhost:8080/",
          "height": 240
        },
        "id": "xQwZRRBjWCgv",
        "outputId": "0b589fc0-eb54-46cb-f003-6d89523464dd"
      },
      "outputs": [],
      "source": [
        "flower_data.isnull().sum()"
      ]
    },
    {
      "cell_type": "markdown",
      "metadata": {
        "id": "937u1qaj7DAa"
      },
      "source": [
        "Statistical summary of all attributes"
      ]
    },
    {
      "cell_type": "code",
      "execution_count": null,
      "metadata": {
        "colab": {
          "base_uri": "https://localhost:8080/",
          "height": 300
        },
        "id": "WaGhp4n266fE",
        "outputId": "b7ddb3d8-3352-41c6-e81e-4b483a222735"
      },
      "outputs": [],
      "source": [
        "flower_data.describe()"
      ]
    },
    {
      "cell_type": "markdown",
      "metadata": {
        "id": "7ID1b2hB7UAE"
      },
      "source": [
        "Breakdown of the data by the class variable"
      ]
    },
    {
      "cell_type": "code",
      "execution_count": null,
      "metadata": {
        "colab": {
          "base_uri": "https://localhost:8080/",
          "height": 209
        },
        "id": "xN3Lprx47N8p",
        "outputId": "845800b6-8deb-4f8e-8d6d-74aeb23a2f5f"
      },
      "outputs": [],
      "source": [
        "flower_data.groupby('Iris-setosa').size()"
      ]
    },
    {
      "cell_type": "markdown",
      "metadata": {
        "id": "ei2sUmlHZ9lF"
      },
      "source": [
        "**4.\tVisualizing the dataset**"
      ]
    },
    {
      "cell_type": "markdown",
      "metadata": {
        "id": "bhHhFu2vbTaY"
      },
      "source": [
        "Univariate Plot for '5.1' (lineplot)"
      ]
    },
    {
      "cell_type": "code",
      "execution_count": null,
      "metadata": {
        "colab": {
          "base_uri": "https://localhost:8080/",
          "height": 451
        },
        "id": "h2D8C0-8a0Oq",
        "outputId": "bbb05aba-5bcf-4fb7-c0d6-9e877e664c5e"
      },
      "outputs": [],
      "source": [
        "sns.lineplot(flower_data['5.1'])"
      ]
    },
    {
      "cell_type": "markdown",
      "metadata": {
        "id": "-9JbeZvVbljI"
      },
      "source": [
        "Univariate Plot for '3.5' (barplot)"
      ]
    },
    {
      "cell_type": "code",
      "execution_count": null,
      "metadata": {
        "colab": {
          "base_uri": "https://localhost:8080/",
          "height": 451
        },
        "id": "OR2j4ZN0T1ln",
        "outputId": "4bede8cd-f661-4186-8e7f-83138a2cde51"
      },
      "outputs": [],
      "source": [
        "sns.barplot(flower_data['3.5'])"
      ]
    },
    {
      "cell_type": "markdown",
      "metadata": {
        "id": "Gyy53f8Bcbwk"
      },
      "source": [
        "Univariate Plot for '1.4' (jointplot)"
      ]
    },
    {
      "cell_type": "code",
      "execution_count": null,
      "metadata": {
        "colab": {
          "base_uri": "https://localhost:8080/",
          "height": 641
        },
        "id": "6O_IYiOjb-nG",
        "outputId": "4a02ce9d-df38-4eeb-8699-282809fe6092"
      },
      "outputs": [],
      "source": [
        "sns.jointplot(flower_data['1.4'])"
      ]
    },
    {
      "cell_type": "markdown",
      "metadata": {
        "id": "p6q0f04CdA3D"
      },
      "source": [
        "Univariate Plot for '0.2' (histplot)"
      ]
    },
    {
      "cell_type": "code",
      "execution_count": null,
      "metadata": {
        "colab": {
          "base_uri": "https://localhost:8080/",
          "height": 475
        },
        "id": "dhFEiJUgc_Ix",
        "outputId": "94bb2d43-03be-45e0-a0c2-de9528bdf784"
      },
      "outputs": [],
      "source": [
        "sns.histplot(flower_data['0.2'])"
      ]
    },
    {
      "cell_type": "markdown",
      "metadata": {
        "id": "i6DY1V7edle7"
      },
      "source": [
        "Univariate Plot for 'Iris-setosa' (pointplot)"
      ]
    },
    {
      "cell_type": "code",
      "execution_count": null,
      "metadata": {
        "colab": {
          "base_uri": "https://localhost:8080/",
          "height": 451
        },
        "id": "jwShN8RjeN2X",
        "outputId": "2244171d-4fdc-4efe-ff76-444550292252"
      },
      "outputs": [],
      "source": [
        "sns.pointplot(flower_data['Iris-setosa'])"
      ]
    },
    {
      "cell_type": "markdown",
      "metadata": {
        "id": "ntDlUx1SfXQh"
      },
      "source": [
        "Multivariate plot for '5.1' vs 'Iris-setosa' (boxplot)"
      ]
    },
    {
      "cell_type": "code",
      "execution_count": null,
      "metadata": {
        "colab": {
          "base_uri": "https://localhost:8080/",
          "height": 475
        },
        "id": "Yy-iQPoqftxS",
        "outputId": "7681cb00-4cc2-43f9-e76e-2902dd5b114b"
      },
      "outputs": [],
      "source": [
        "sns.boxplot(flower_data, x='5.1', y='Iris-setosa')"
      ]
    },
    {
      "cell_type": "markdown",
      "metadata": {
        "id": "BiV-VRq9gZsl"
      },
      "source": [
        "Multivariate plot for '3.5' vs 'Iris-setosa' (boxplot)"
      ]
    },
    {
      "cell_type": "code",
      "execution_count": null,
      "metadata": {
        "colab": {
          "base_uri": "https://localhost:8080/",
          "height": 475
        },
        "id": "NMJVvfZZgfDP",
        "outputId": "4dee490f-a474-471d-d25a-2e0e42cb0714"
      },
      "outputs": [],
      "source": [
        "sns.boxplot(flower_data, x='3.5', y='Iris-setosa')"
      ]
    },
    {
      "cell_type": "markdown",
      "metadata": {
        "id": "QJwAfZTJgwPN"
      },
      "source": [
        "Multivariate plot for '1.4' vs 'Iris-setosa' (boxplot)"
      ]
    },
    {
      "cell_type": "code",
      "execution_count": null,
      "metadata": {
        "colab": {
          "base_uri": "https://localhost:8080/",
          "height": 475
        },
        "id": "j1uRCiKyg1P3",
        "outputId": "56eeb93e-1f95-49c3-e099-39a78089ad13"
      },
      "outputs": [],
      "source": [
        "sns.boxplot(flower_data, x='1.4', y='Iris-setosa')"
      ]
    },
    {
      "cell_type": "markdown",
      "metadata": {
        "id": "M-74KivphEmh"
      },
      "source": [
        "Multivariate plot for '0.2' vs 'Iris-setosa' (boxplot)"
      ]
    },
    {
      "cell_type": "code",
      "execution_count": null,
      "metadata": {
        "colab": {
          "base_uri": "https://localhost:8080/",
          "height": 475
        },
        "id": "HUP0YY_DhB1u",
        "outputId": "f826d074-4f65-4258-d147-27518ea9fa35"
      },
      "outputs": [],
      "source": [
        "sns.boxplot(flower_data, x='0.2', y='Iris-setosa')"
      ]
    },
    {
      "cell_type": "markdown",
      "metadata": {
        "id": "9J-EwHKPNWV2"
      },
      "source": [
        "**5.\tEvaluating some algorithms**"
      ]
    },
    {
      "cell_type": "markdown",
      "metadata": {
        "id": "4eH0104ONtlQ"
      },
      "source": [
        "Separate out a validation dataset"
      ]
    },
    {
      "cell_type": "code",
      "execution_count": null,
      "metadata": {
        "id": "U6ldmsLP7n1h"
      },
      "outputs": [],
      "source": [
        "Y = flower_data['Iris-setosa']\n",
        "X = flower_data.drop('Iris-setosa', axis=1)"
      ]
    },
    {
      "cell_type": "code",
      "execution_count": null,
      "metadata": {
        "id": "PccaL3VKTwSp"
      },
      "outputs": [],
      "source": [
        "X_train, X_test, Y_train, Y_test = train_test_split(X, Y, test_size=0.2, stratify = Y, random_state=2)"
      ]
    },
    {
      "cell_type": "code",
      "execution_count": null,
      "metadata": {
        "colab": {
          "base_uri": "https://localhost:8080/"
        },
        "id": "2IqmqAlsVlNP",
        "outputId": "fe072af4-21f5-4735-af44-8f13bbff4d26"
      },
      "outputs": [],
      "source": [
        "print(X_train.shape, X_test.shape, Y_train.shape, Y_test.shape)"
      ]
    },
    {
      "cell_type": "markdown",
      "metadata": {
        "id": "5TsiTJJPhvhK"
      },
      "source": [
        "Logistic Regression (LR) Model"
      ]
    },
    {
      "cell_type": "code",
      "execution_count": null,
      "metadata": {
        "colab": {
          "base_uri": "https://localhost:8080/"
        },
        "id": "awiry7niVnvw",
        "outputId": "53e82e9c-d89c-41e9-c22b-8658fc090732"
      },
      "outputs": [],
      "source": [
        "model_lr = LogisticRegression()\n",
        "model_lr.fit(X_train, Y_train)\n",
        "lr_score = model_lr.score(X_test, Y_test)\n",
        "print(f\"Logistic Regression Accuracy: {lr_score:.2f}\")"
      ]
    },
    {
      "cell_type": "markdown",
      "metadata": {
        "id": "aQC7fMzWi89S"
      },
      "source": [
        "Linear Discriminant Analysis (LDA) Model"
      ]
    },
    {
      "cell_type": "code",
      "execution_count": null,
      "metadata": {
        "colab": {
          "base_uri": "https://localhost:8080/"
        },
        "id": "iHQiVx12ia9l",
        "outputId": "0773962c-d3df-4af6-e551-9bd2f0c4d29c"
      },
      "outputs": [],
      "source": [
        "model_lda = LinearDiscriminantAnalysis()\n",
        "model_lda.fit(X_train, Y_train)\n",
        "lda_score = model_lda.score(X_test, Y_test)\n",
        "print(f\"Linear Discriminant Analysis Accuracy: {lda_score:.2f}\")"
      ]
    },
    {
      "cell_type": "markdown",
      "metadata": {
        "id": "SpcLjllajMYh"
      },
      "source": [
        "K-Nearest Neighbors (KNN) Model"
      ]
    },
    {
      "cell_type": "code",
      "execution_count": null,
      "metadata": {
        "colab": {
          "base_uri": "https://localhost:8080/"
        },
        "id": "Em63Fjb2jFc8",
        "outputId": "fd9e6628-0295-4e4b-af1c-d0e7adcc5f7b"
      },
      "outputs": [],
      "source": [
        "model_knn = KNeighborsClassifier()\n",
        "model_knn.fit(X_train, Y_train)\n",
        "knn_score = model_knn.score(X_test, Y_test)\n",
        "print(f\"K-Nearest Neighbors Accuracy: {knn_score:.2f}\")"
      ]
    },
    {
      "cell_type": "markdown",
      "metadata": {
        "id": "O6kMhSgejv_u"
      },
      "source": [
        "Classification and Regression Trees (CART) Model"
      ]
    },
    {
      "cell_type": "code",
      "execution_count": null,
      "metadata": {
        "colab": {
          "base_uri": "https://localhost:8080/"
        },
        "id": "2454SlAEjLdU",
        "outputId": "52355220-9a8b-4127-8608-7091bd2aa2c8"
      },
      "outputs": [],
      "source": [
        "model_cart = DecisionTreeClassifier()\n",
        "model_cart.fit(X_train, Y_train)\n",
        "cart_score = model_cart.score(X_test, Y_test)\n",
        "print(f\"CART Accuracy: {cart_score:.2f}\")"
      ]
    },
    {
      "cell_type": "markdown",
      "metadata": {
        "id": "2Di86UBOl9Zc"
      },
      "source": [
        "Gaussian Naive Bayes (NB) Model"
      ]
    },
    {
      "cell_type": "code",
      "execution_count": null,
      "metadata": {
        "colab": {
          "base_uri": "https://localhost:8080/"
        },
        "id": "CNnnXxWumBr-",
        "outputId": "5b97b47d-1d74-4c9c-fd77-47274c339c8c"
      },
      "outputs": [],
      "source": [
        "model_nb = GaussianNB()\n",
        "model_nb.fit(X_train, Y_train)\n",
        "nb_score = model_nb.score(X_test, Y_test)\n",
        "print(f\"Gaussian Naive Bayes Accuracy: {nb_score:.2f}\")"
      ]
    },
    {
      "cell_type": "markdown",
      "metadata": {
        "id": "q0u6aF7-j8Wi"
      },
      "source": [
        "Support Vector Machines (SVM) Model"
      ]
    },
    {
      "cell_type": "code",
      "execution_count": null,
      "metadata": {
        "colab": {
          "base_uri": "https://localhost:8080/"
        },
        "id": "UEbFDUAjjt9g",
        "outputId": "df72b38c-f273-45a9-aa60-19ca87cfbc33"
      },
      "outputs": [],
      "source": [
        "model_svm = SVC()\n",
        "model_svm.fit(X_train, Y_train)\n",
        "svm_score = model_svm.score(X_test, Y_test)\n",
        "print(f\"Support Vector Machines Accuracy: {svm_score:.2f}\")"
      ]
    },
    {
      "cell_type": "markdown",
      "metadata": {
        "id": "9vd8ZA5qmlUF"
      },
      "source": [
        "Comparing the accuracy of the models"
      ]
    },
    {
      "cell_type": "code",
      "execution_count": null,
      "metadata": {
        "colab": {
          "base_uri": "https://localhost:8080/",
          "height": 237
        },
        "id": "OmMJ72UQqgAK",
        "outputId": "9d13008e-7723-4adc-f9e1-c706dc61c0d6"
      },
      "outputs": [],
      "source": [
        "accuracy = [lr_score,lda_score,knn_score,cart_score,nb_score,svm_score]\n",
        "algorithms = ['Logistic Regression','Linear Discriminant Analysis','K-Nearest Neighbors','Classification and Regression Trees','Gaussian Naive Bayes','Support Vector Machines']\n",
        "score_df = pd.DataFrame({'Algorithms': algorithms, 'Accuracy Score': accuracy})\n",
        "score_df"
      ]
    },
    {
      "cell_type": "markdown",
      "metadata": {
        "id": "haZnaJU70u7N"
      },
      "source": [
        "Selecting best model"
      ]
    },
    {
      "cell_type": "code",
      "execution_count": null,
      "metadata": {
        "colab": {
          "base_uri": "https://localhost:8080/"
        },
        "id": "M6HObeqq0xvH",
        "outputId": "ec355042-d457-4687-86a6-35c73ef86777"
      },
      "outputs": [],
      "source": [
        "max_index = accuracy.index(max(accuracy))\n",
        "best_model = algorithms[max_index]\n",
        "print(f\"Best model: {best_model} \\nAccuracy: {max(accuracy):.2f}\")"
      ]
    },
    {
      "cell_type": "markdown",
      "metadata": {
        "id": "g-1qL6jJm86L"
      },
      "source": [
        "Plotting the accuracies"
      ]
    },
    {
      "cell_type": "code",
      "execution_count": null,
      "metadata": {
        "colab": {
          "base_uri": "https://localhost:8080/",
          "height": 458
        },
        "id": "eVex7PiOprPP",
        "outputId": "fdf84050-3e4c-49bd-c661-e0b26674d5f7"
      },
      "outputs": [],
      "source": [
        "sns.pointplot(data=score_df, x='Accuracy Score', y='Algorithms')\n",
        "for i in range(len(score_df)):\n",
        "    plt.text(score_df['Accuracy Score'][i], i, f'{score_df[\"Accuracy Score\"][i]:.2f}',\n",
        "             ha='center', va='bottom')"
      ]
    },
    {
      "cell_type": "markdown",
      "metadata": {
        "id": "2AcH7WVOsHAK"
      },
      "source": [
        "**6.\tMaking some predictions**"
      ]
    },
    {
      "cell_type": "code",
      "execution_count": null,
      "metadata": {
        "colab": {
          "base_uri": "https://localhost:8080/"
        },
        "id": "XeZl1x26sNZt",
        "outputId": "b3481a42-8425-4049-ff81-7201ce9de2e6"
      },
      "outputs": [],
      "source": [
        "input_data = (5.8,4.0,1.2,0.2)\n",
        "input_data_df = pd.DataFrame([input_data], columns=X_train.columns)\n",
        "\n",
        "models = {\n",
        "    'Logistic Regression': model_lr,\n",
        "    'Linear Discriminant Analysis': model_lda,\n",
        "    'K-Nearest Neighbors': model_knn,\n",
        "    'Classification and Regression Trees': model_cart,\n",
        "    'Gaussian Naive Bayes': model_nb,\n",
        "    'Support Vector Machines': model_svm\n",
        "}\n",
        "\n",
        "optimal_model = models[best_model]\n",
        "prediction = optimal_model.predict(input_data_df)\n",
        "print(prediction)\n",
        "print(f\"predicted using {best_model}\")"
      ]
    }
  ],
  "metadata": {
    "colab": {
      "provenance": []
    },
    "kernelspec": {
      "display_name": "Python 3",
      "name": "python3"
    },
    "language_info": {
      "codemirror_mode": {
        "name": "ipython",
        "version": 3
      },
      "file_extension": ".py",
      "mimetype": "text/x-python",
      "name": "python",
      "nbconvert_exporter": "python",
      "pygments_lexer": "ipython3",
      "version": "3.12.4"
    }
  },
  "nbformat": 4,
  "nbformat_minor": 0
}
